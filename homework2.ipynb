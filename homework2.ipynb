{
 "cells": [
  {
   "cell_type": "code",
   "execution_count": 1,
   "id": "a4700fab",
   "metadata": {},
   "outputs": [
    {
     "name": "stdout",
     "output_type": "stream",
     "text": [
      "Enter your name and lastname: pavel zhukovski\n",
      "Привет Pavel Zhukovski, твой логин в нашей системе: pavel_zhukovski \n",
      "{'pavel_zhukovski': {'name': 'Pavel', 'lastname': 'Zhukovski'}}\n"
     ]
    }
   ],
   "source": [
    "name, lastname = input('Enter your name and lastname: ').split() # принимаем вводные данные имя и фамилию\n",
    "name = name.capitalize()          #делаем заглавную букву в имени и фамилии\n",
    "lastname = lastname.capitalize() \n",
    "data = {}                    #создаем словарь общий (пустой)\n",
    "data_user = {}                    # создаем словарь с ключами name и lastname (пустой)\n",
    "id_user = f'{name}_{lastname}'    # создаем переменную пользователя вида: name_lastname, который будем дальше использовать как ключ\n",
    "id_user = id_user.lower()         # новый ключ переводим в нижний регистр\n",
    "data_user['name'] = name          # включаем данные в словарь data_user\n",
    "data_user['lastname'] = lastname\n",
    "data[id_user] = data_user         #получили словарь типа: {id_user : {name:name, lastname:lastname}}\n",
    "output = f'Привет {name} {lastname}, твой логин в нашей системе: {id_user} ' #делаем вывод\n",
    "print(output)\n",
    "print(data)                        #выводим словарь data"
   ]
  },
  {
   "cell_type": "code",
   "execution_count": null,
   "id": "5e5922a6",
   "metadata": {},
   "outputs": [],
   "source": [
    "data = {'pavel_zhukovski': {'name': 'Pavel', 'lastname': 'Zhukovski'}}\n",
    "data_user = {'name': 'Pavel', 'lastname': 'Zhukovski'}               \n",
    "question = input('Введите 1 для регистрации или 2 для входа через логин ')\n",
    "while True:\n",
    "    if question == '1':\n",
    "        pole = input('Введите имя и фамилию: ').split()\n",
    "        if len(pole) == 2:\n",
    "            name = pole[0]\n",
    "            lastname =pole[1] \n",
    "            id_user = f'{name}_{lastname}'    \n",
    "            id_user = id_user.lower() \n",
    "            name = name.capitalize()          \n",
    "            lastname = lastname.capitalize() \n",
    "            new_data = {}\n",
    "            new_data_user = {}\n",
    "            new_data_user['name'] = name\n",
    "            new_data_user['lastname'] = lastname\n",
    "            new_data[id_user] = new_data_user\n",
    "            for i in data.copy():\n",
    "                if id_user == i:\n",
    "                    print('привет, вы зарегестрированы, войдите под логином')\n",
    "                else:\n",
    "                    data.update(new_data)\n",
    "                    print(f'Добро пожаловать {name} {lastname}. твой логин в нашей системе: {id_user}')\n",
    "                    \n",
    "                break\n",
    "        else:\n",
    "            id_user= pole[0]\n",
    "            id_user = id_user.lower() \n",
    "            \n",
    "            for login in data.keys():\n",
    "                if id_user == login:\n",
    "                    t=dict(data[id_user])\n",
    "                    print('Привет {name} {lastname}, давно тебя не было'.format(**t))\n",
    "                    \n",
    "                else:\n",
    "                    print('пройдите регистрацию') #тут проблема, когда зарегистрировались и входим под логином \n",
    "                                                   # всеравно else выполняется...\n",
    "    else:\n",
    "        id_user = input('Ведите логин: ')\n",
    "        id_user = id_user.lower()\n",
    "        \n",
    "        for login in data.keys():\n",
    "                if id_user == login:\n",
    "                    t = dict(data[id_user])\n",
    "                    print('Привет {name} {lastname}, давно тебя не было'.format(**t))\n",
    "                    break\n",
    "                else:\n",
    "                    print('пройдите регистрацию')\n",
    "        break          "
   ]
  },
  {
   "cell_type": "code",
   "execution_count": 1,
   "id": "d04ee45e",
   "metadata": {},
   "outputs": [
    {
     "name": "stdout",
     "output_type": "stream",
     "text": [
      "[0, 9, 18, 27, 36, 45, 54, 63, 72, 81, 90, 99, 108, 117, 126, 135, 144, 153, 162, 171, 180, 189, 198, 207, 216, 225, 234, 243, 252, 261, 270, 279, 288, 297, 306, 315, 324, 333, 342, 351, 360, 369, 378, 387, 396, 405, 414, 423, 432, 441, 450, 459, 468, 477, 486, 495, 504, 513, 522, 531, 540, 549, 558, 567, 576, 585, 594, 603, 612, 621, 630, 639, 648, 657, 666, 675, 684, 693, 702, 711, 720, 729, 738, 747, 756, 765, 774, 783, 792, 801, 810, 819, 828, 837, 846, 855, 864, 873, 882, 891, 900, 909, 918, 927, 936, 945, 954, 963, 972, 981, 990, 999]\n"
     ]
    }
   ],
   "source": [
    "tor = []\n",
    "for num in range(1001):\n",
    "    if num % 3 == 0 and num % 9 == 0:\n",
    "        tor.append(num)\n",
    "print(tor)"
   ]
  },
  {
   "cell_type": "code",
   "execution_count": 2,
   "id": "2a1e63ab",
   "metadata": {},
   "outputs": [
    {
     "name": "stdout",
     "output_type": "stream",
     "text": [
      "[0, 9, 18, 27, 36, 45, 54, 63, 72, 81, 90, 99, 108, 117, 126, 135, 144, 153, 162, 171, 180, 189, 198, 207, 216, 225, 234, 243, 252, 261, 270, 279, 288, 297, 306, 315, 324, 333, 342, 351, 360, 369, 378, 387, 396, 405, 414, 423, 432, 441, 450, 459, 468, 477, 486, 495, 504, 513, 522, 531, 540, 549, 558, 567, 576, 585, 594, 603, 612, 621, 630, 639, 648, 657, 666, 675, 684, 693, 702, 711, 720, 729, 738, 747, 756, 765, 774, 783, 792, 801, 810, 819, 828, 837, 846, 855, 864, 873, 882, 891, 900, 909, 918, 927, 936, 945, 954, 963, 972, 981, 990, 999]\n"
     ]
    }
   ],
   "source": [
    "num1 = [n for n in range(1001) if n % 3 == 0 and n % 9 == 0]\n",
    "print(num1)"
   ]
  },
  {
   "cell_type": "code",
   "execution_count": 7,
   "id": "081074b8",
   "metadata": {},
   "outputs": [
    {
     "name": "stdout",
     "output_type": "stream",
     "text": [
      "{65: 'A', 66: 'B', 67: 'C', 68: 'D', 69: 'E', 70: 'F', 71: 'G', 72: 'H', 73: 'I', 74: 'J', 75: 'K', 76: 'L', 77: 'M', 78: 'N', 79: 'O', 80: 'P', 81: 'Q', 82: 'R', 83: 'S', 84: 'T', 85: 'U', 86: 'V', 87: 'W', 88: 'X', 89: 'Y', 90: 'Z', 91: '[', 92: '\\\\', 93: ']', 94: '^', 95: '_', 96: '`', 97: 'a', 98: 'b', 99: 'c', 100: 'd', 101: 'e', 102: 'f', 103: 'g', 104: 'h', 105: 'i', 106: 'j', 107: 'k', 108: 'l', 109: 'm', 110: 'n', 111: 'o', 112: 'p', 113: 'q', 114: 'r', 115: 's', 116: 't', 117: 'u', 118: 'v', 119: 'w', 120: 'x', 121: 'y', 122: 'z'}\n"
     ]
    }
   ],
   "source": [
    "uni_dict ={}\n",
    "for ch in range (65, 123):\n",
    "    a = chr(ch)\n",
    "    uni_dict[ch] = a\n",
    "print(uni_dict)\n"
   ]
  },
  {
   "cell_type": "code",
   "execution_count": 37,
   "id": "df14a3c5",
   "metadata": {},
   "outputs": [
    {
     "name": "stdout",
     "output_type": "stream",
     "text": [
      "[(1, 1, 2), (1, 2, 1), (1, 1, 2), (1, 2, 1), (2, 1, 1), (2, 1, 1)]\n"
     ]
    }
   ],
   "source": [
    "import itertools \n",
    "x=y=1\n",
    "z=2\n",
    "list_up = []\n",
    "values = [x,y,z]\n",
    "for i in range(3, len(values)+1):\n",
    "    for run in itertools.permutations(values, i):\n",
    "        list_up.append(run)\n",
    "print(list_up)\n"
   ]
  },
  {
   "cell_type": "code",
   "execution_count": null,
   "id": "6320ad58",
   "metadata": {},
   "outputs": [],
   "source": []
  }
 ],
 "metadata": {
  "kernelspec": {
   "display_name": "Python 3 (ipykernel)",
   "language": "python",
   "name": "python3"
  },
  "language_info": {
   "codemirror_mode": {
    "name": "ipython",
    "version": 3
   },
   "file_extension": ".py",
   "mimetype": "text/x-python",
   "name": "python",
   "nbconvert_exporter": "python",
   "pygments_lexer": "ipython3",
   "version": "3.8.10"
  }
 },
 "nbformat": 4,
 "nbformat_minor": 5
}

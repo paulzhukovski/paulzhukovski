{
 "cells": [
  {
   "cell_type": "code",
   "execution_count": 1,
   "id": "a4700fab",
   "metadata": {},
   "outputs": [
    {
     "name": "stdout",
     "output_type": "stream",
     "text": [
      "Enter your name and lastname: pavel zhukovski\n",
      "Привет Pavel Zhukovski, твой логин в нашей системе: pavel_zhukovski \n",
      "{'pavel_zhukovski': {'name': 'Pavel', 'lastname': 'Zhukovski'}}\n"
     ]
    }
   ],
   "source": [
    "name, lastname = input('Enter your name and lastname: ').split() # принимаем вводные данные имя и фамилию\n",
    "name = name.capitalize()          #делаем заглавную букву в имени и фамилии\n",
    "lastname = lastname.capitalize() \n",
    "data = {}                    #создаем словарь общий (пустой)\n",
    "data_user = {}                    # создаем словарь с ключами name и lastname (пустой)\n",
    "id_user = f'{name}_{lastname}'    # создаем переменную пользователя вида: name_lastname, который будем дальше использовать как ключ\n",
    "id_user = id_user.lower()         # новый ключ переводим в нижний регистр\n",
    "data_user['name'] = name          # включаем данные в словарь data_user\n",
    "data_user['lastname'] = lastname\n",
    "data[id_user] = data_user         #получили словарь типа: {id_user : {name:name, lastname:lastname}}\n",
    "output = f'Привет {name} {lastname}, твой логин в нашей системе: {id_user} ' #делаем вывод\n",
    "print(output)\n",
    "print(data)                        #выводим словарь data"
   ]
  },
  {
   "cell_type": "code",
   "execution_count": null,
   "id": "5e5922a6",
   "metadata": {},
   "outputs": [],
   "source": [
    "data = {'pavel_zhukovski': {'name': 'Pavel', 'lastname': 'Zhukovski'}}\n",
    "data_user = {'name': 'Pavel', 'lastname': 'Zhukovski'}               \n",
    "question = input('Введите 1 для регистрации или 2 для входа через логин ')\n",
    "while True:\n",
    "    if question == '1':\n",
    "        pole = input('Введите имя и фамилию: ').split()\n",
    "        if len(pole) == 2:\n",
    "            name = pole[0]\n",
    "            lastname =pole[1] \n",
    "            id_user = f'{name}_{lastname}'    \n",
    "            id_user = id_user.lower() \n",
    "            name = name.capitalize()          \n",
    "            lastname = lastname.capitalize() \n",
    "            new_data = {}\n",
    "            new_data_user = {}\n",
    "            new_data_user['name'] = name\n",
    "            new_data_user['lastname'] = lastname\n",
    "            new_data[id_user] = new_data_user\n",
    "            for i in data.copy():\n",
    "                if id_user == i:\n",
    "                    print('привет, вы зарегестрированы, войдите под логином')\n",
    "                else:\n",
    "                    data.update(new_data)\n",
    "                    print(f'Добро пожаловать {name} {lastname}. твой логин в нашей системе: {id_user}')\n",
    "                    \n",
    "                break\n",
    "        else:\n",
    "            id_user= pole[0]\n",
    "            id_user = id_user.lower() \n",
    "            \n",
    "            for login in data.keys():\n",
    "                if id_user == login:\n",
    "                    t=dict(data[id_user])\n",
    "                    print('Привет {name} {lastname}, давно тебя не было'.format(**t))\n",
    "                    \n",
    "                else:\n",
    "                    print('пройдите регистрацию') #тут проблема, когда зарегистрировались и входим под логином \n",
    "                                                   # всеравно else выполняется...\n",
    "    else:\n",
    "        id_user = input('Ведите логин: ')\n",
    "        id_user = id_user.lower()\n",
    "        \n",
    "        for login in data.keys():\n",
    "                if id_user == login:\n",
    "                    t = dict(data[id_user])\n",
    "                    print('Привет {name} {lastname}, давно тебя не было'.format(**t))\n",
    "                    break\n",
    "                else:\n",
    "                    print('пройдите регистрацию')\n",
    "        break          "
   ]
  },
  {
   "cell_type": "code",
   "execution_count": null,
   "id": "d04ee45e",
   "metadata": {},
   "outputs": [],
   "source": []
  },
  {
   "cell_type": "code",
   "execution_count": null,
   "id": "2a1e63ab",
   "metadata": {},
   "outputs": [],
   "source": []
  }
 ],
 "metadata": {
  "kernelspec": {
   "display_name": "Python 3 (ipykernel)",
   "language": "python",
   "name": "python3"
  },
  "language_info": {
   "codemirror_mode": {
    "name": "ipython",
    "version": 3
   },
   "file_extension": ".py",
   "mimetype": "text/x-python",
   "name": "python",
   "nbconvert_exporter": "python",
   "pygments_lexer": "ipython3",
   "version": "3.8.10"
  }
 },
 "nbformat": 4,
 "nbformat_minor": 5
}

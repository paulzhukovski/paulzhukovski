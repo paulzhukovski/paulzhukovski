{
 "cells": [
  {
   "cell_type": "code",
   "execution_count": 3,
   "id": "f2bbeba1",
   "metadata": {},
   "outputs": [
    {
     "name": "stdout",
     "output_type": "stream",
     "text": [
      "Число 256 в системах исчисления\n",
      "0b100000000\n",
      "0o400\n",
      "0x100\n"
     ]
    }
   ],
   "source": [
    "a = 256\n",
    "print ('Число', a, 'в системах исчисления:')\n",
    "print(bin(a))\n",
    "print(oct(a))\n",
    "print(hex(a))"
   ]
  },
  {
   "cell_type": "code",
   "execution_count": 22,
   "id": "cb692622",
   "metadata": {},
   "outputs": [
    {
     "name": "stdout",
     "output_type": "stream",
     "text": [
      "недель в году:52, лишний дней:1\n"
     ]
    }
   ],
   "source": [
    "week = 365//7\n",
    "day = 365%7\n",
    "print('недель в году:', week ,\", \" ,'лишних дней:',day, sep='')\n"
   ]
  },
  {
   "cell_type": "code",
   "execution_count": 27,
   "id": "5b5c0c45",
   "metadata": {},
   "outputs": [
    {
     "name": "stdout",
     "output_type": "stream",
     "text": [
      "Среднее кол-во дней в году: 30.42\n"
     ]
    }
   ],
   "source": [
    "day_in_month = [31,28,31,30,31,30,31,31,30,31,30,31]\n",
    "average_days = (sum(day_in_month)/12)\n",
    "average_days = round(average_days, 2)\n",
    "print ('Среднее кол-во дней в году: ',average_days, sep='')\n"
   ]
  },
  {
   "cell_type": "code",
   "execution_count": 33,
   "id": "2badfe8d",
   "metadata": {},
   "outputs": [
    {
     "name": "stdout",
     "output_type": "stream",
     "text": [
      "В году: 4380 часов, 262800 минут, 15768000 секунд.\n"
     ]
    }
   ],
   "source": [
    "hour_in_year = 365*12\n",
    "minutes_in_year = hour_in_year*60\n",
    "seconds_in_year = minutes_in_year*60\n",
    "print('В году: ', hour_in_year,' часов, ',minutes_in_year, ' минут, ', seconds_in_year, ' секунд.', sep='' )\n"
   ]
  },
  {
   "cell_type": "code",
   "execution_count": 41,
   "id": "0759028a",
   "metadata": {},
   "outputs": [
    {
     "name": "stdout",
     "output_type": "stream",
     "text": [
      "8.062\n",
      "8.062\n"
     ]
    }
   ],
   "source": [
    "#1 способ\n",
    "from math import sqrt\n",
    "a = 4\n",
    "b = 7\n",
    "c = round(sqrt((pow(a,2)+pow(b,2))),3)\n",
    "print(c)\n",
    "#2 способ\n",
    "a = 4\n",
    "b = 7\n",
    "c = round(((a**2+b**2)**0.5),3)\n",
    "print(c)\n"
   ]
  },
  {
   "cell_type": "code",
   "execution_count": 46,
   "id": "a9f9439d",
   "metadata": {},
   "outputs": [
    {
     "name": "stdout",
     "output_type": "stream",
     "text": [
      "Сумма:16035180, Минимальное значение:4380, Максимальное значение:15768000\n"
     ]
    }
   ],
   "source": [
    "summa = sum([hour_in_year,minutes_in_year,seconds_in_year])\n",
    "arg_min = min(hour_in_year,minutes_in_year,seconds_in_year)\n",
    "arg_max = max(hour_in_year,minutes_in_year,seconds_in_year)\n",
    "print('Сумма:',summa, ', Минимальное значение:', arg_min, ', Максимальное значение:', arg_max, sep='')"
   ]
  },
  {
   "cell_type": "code",
   "execution_count": 12,
   "id": "ffc09662",
   "metadata": {},
   "outputs": [
    {
     "name": "stdout",
     "output_type": "stream",
     "text": [
      "\"\"\"Меня зовут Павел Жуковский, и я учу Python!!!\"\"\"\n"
     ]
    }
   ],
   "source": [
    "name = 'Павел'\n",
    "surname = 'Жуковский'\n",
    "print('\"\"\"Меня зовут ', name,' ',surname, ', и я учу Python!!!\"\"\"', sep='')"
   ]
  },
  {
   "cell_type": "code",
   "execution_count": 9,
   "id": "9a77c73d",
   "metadata": {
    "scrolled": true
   },
   "outputs": [
    {
     "name": "stdout",
     "output_type": "stream",
     "text": [
      "23\n"
     ]
    }
   ],
   "source": [
    "dom_str = 'Карл у Клары украл кораллы, а Клара у Карла украла кларнет. Если бы Карл у Клары не украл кораллы,\\\n",
    "то Клара у Карла не украла б кларнет'\n",
    "print(dom_str.count('а'))"
   ]
  },
  {
   "cell_type": "code",
   "execution_count": 10,
   "id": "04caaf87",
   "metadata": {},
   "outputs": [
    {
     "name": "stdout",
     "output_type": "stream",
     "text": [
      "карл у клары украл кораллы, а клара у карла украла кларнет. если бы карл у клары не украл кораллы,то клара у карла не украла б кларнет\n",
      "КАРЛ У КЛАРЫ УКРАЛ КОРАЛЛЫ, А КЛАРА У КАРЛА УКРАЛА КЛАРНЕТ. ЕСЛИ БЫ КАРЛ У КЛАРЫ НЕ УКРАЛ КОРАЛЛЫ,ТО КЛАРА У КАРЛА НЕ УКРАЛА Б КЛАРНЕТ\n"
     ]
    }
   ],
   "source": [
    "dom_str = 'Карл у Клары украл кораллы, а Клара у Карла украла кларнет. Если бы Карл у Клары не украл кораллы,\\\n",
    "то Клара у Карла не украла б кларнет'\n",
    "print(dom_str.lower())\n",
    "print(dom_str.upper())"
   ]
  },
  {
   "cell_type": "code",
   "execution_count": 11,
   "id": "1cea9f33",
   "metadata": {},
   "outputs": [
    {
     "name": "stdout",
     "output_type": "stream",
     "text": [
      "кАРЛ У кЛАРЫ УКРАЛ КОРАЛЛЫ, А кЛАРА У кАРЛА УКРАЛА КЛАРНЕТ. еСЛИ БЫ кАРЛ У кЛАРЫ НЕ УКРАЛ КОРАЛЛЫ,ТО кЛАРА У кАРЛА НЕ УКРАЛА Б КЛАРНЕТ\n"
     ]
    }
   ],
   "source": [
    "dom_str = 'Карл у Клары украл кораллы, а Клара у Карла украла кларнет. Если бы Карл у Клары не украл кораллы,\\\n",
    "то Клара у Карла не украла б кларнет'\n",
    "print(dom_str.swapcase())"
   ]
  },
  {
   "cell_type": "code",
   "execution_count": 18,
   "id": "9bf6b7bc",
   "metadata": {},
   "outputs": [
    {
     "name": "stdout",
     "output_type": "stream",
     "text": [
      "Есть, вcтречается 2 раз(а)\n"
     ]
    }
   ],
   "source": [
    "test='Кларнет'\n",
    "dom_str = 'Карл у Клары украл кораллы, а Клара у Карла украла кларнет. Если бы Карл у Клары не украл кораллы,\\\n",
    "то Клара у Карла не украла б кларнет'\n",
    "dom_str = dom_str.lower()\n",
    "test = test.lower()\n",
    "if test in dom_str:\n",
    "    i = dom_str.count(test)\n",
    "    print('Есть,', 'вcтречается', i, 'раз(а)')\n",
    "else:\n",
    "    print('Не встречается в предложении')"
   ]
  },
  {
   "cell_type": "code",
   "execution_count": 1,
   "id": "d54eb46d",
   "metadata": {},
   "outputs": [
    {
     "name": "stdout",
     "output_type": "stream",
     "text": [
      "Исходный список: ['яблоко', 'банан', 'апельсин', 'кокос', 'манго', 'дыня', 'мандарин']\n",
      " \n",
      "сортировка по алфавиту: ['апельсин', 'банан', 'дыня', 'кокос', 'манго', 'мандарин', 'яблоко']\n",
      " \n",
      "сортировка по алфавиту в обратном порядке: ['яблоко', 'мандарин', 'манго', 'кокос', 'дыня', 'банан', 'апельсин']\n",
      " \n",
      "сортировка по длинне слова: ['дыня', 'банан', 'кокос', 'манго', 'яблоко', 'апельсин', 'мандарин']\n",
      " \n",
      "список только с первым и последним элементом: ['яблоко', 'мандарин']\n",
      "\n",
      "Создать список, в котором только каждый второй элемент: ['яблоко', 'апельсин', 'манго', 'мандарин']\n"
     ]
    }
   ],
   "source": [
    "list_test = [\"яблоко\", \"банан\", \"апельсин\", \"кокос\", \"манго\", \"дыня\", \"мандарин\"]\n",
    "print('Исходный список:', list_test)\n",
    "print(\" \")\n",
    "list_sort = sorted(list_test)\n",
    "print('сортировка по алфавиту:', list_sort)\n",
    "print(\" \")\n",
    "#--------------------------------------------------------------next\n",
    "list_revers = sorted(list_test, reverse = True)\n",
    "print('сортировка по алфавиту в обратном порядке:', list_revers)\n",
    "print(\" \")\n",
    "#--------------------------------------------------------------next\n",
    "list_len = sorted(list_test, key=len)\n",
    "print('сортировка по длинне слова:', list_len)\n",
    "print(\" \")\n",
    "#--------------------------------------------------------------next\n",
    "list_fin = [list_test[0] , list_test[-1]]\n",
    "print('список только с первым и последним элементом:', list_fin )\n",
    "print ('')\n",
    "#--------------------------------------------------------------next\n",
    "list_tu = list_test[::2] \n",
    "print('Создать список, в котором только каждый второй элемент:', list_tu)\n"
   ]
  },
  {
   "cell_type": "code",
   "execution_count": null,
   "id": "6ca62a12",
   "metadata": {},
   "outputs": [],
   "source": []
  }
 ],
 "metadata": {
  "kernelspec": {
   "display_name": "Python 3 (ipykernel)",
   "language": "python",
   "name": "python3"
  },
  "language_info": {
   "codemirror_mode": {
    "name": "ipython",
    "version": 3
   },
   "file_extension": ".py",
   "mimetype": "text/x-python",
   "name": "python",
   "nbconvert_exporter": "python",
   "pygments_lexer": "ipython3",
   "version": "3.8.10"
  }
 },
 "nbformat": 4,
 "nbformat_minor": 5
}
